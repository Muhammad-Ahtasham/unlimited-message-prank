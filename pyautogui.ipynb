{
 "cells": [
  {
   "cell_type": "markdown",
   "id": "7bc360f2",
   "metadata": {},
   "source": [
    "# PyAutoGUI"
   ]
  },
  {
   "cell_type": "markdown",
   "id": "d719d4f3",
   "metadata": {},
   "source": [
    "THIS CODE IS USED TO SEND ALOT OF MSGS ..... HEHEHEEHEHE"
   ]
  },
  {
   "cell_type": "code",
   "execution_count": 1,
   "id": "8cc43ad7",
   "metadata": {},
   "outputs": [],
   "source": [
    "import pyautogui as pg"
   ]
  },
  {
   "cell_type": "code",
   "execution_count": 2,
   "id": "1d5677b3",
   "metadata": {},
   "outputs": [],
   "source": [
    "import time"
   ]
  },
  {
   "cell_type": "code",
   "execution_count": 2,
   "id": "a984cb48",
   "metadata": {},
   "outputs": [],
   "source": [
    "name = input(\"Enter the Name of the reciever???? \")"
   ]
  },
  {
   "cell_type": "code",
   "execution_count": 1,
   "id": "bdf8e336",
   "metadata": {},
   "outputs": [
    {
     "data": {
      "text/plain": [
       "['hello ']"
      ]
     },
     "execution_count": 1,
     "metadata": {},
     "output_type": "execute_result"
    }
   ],
   "source": [
    "msg = []\n",
    "a = ''\n",
    "while a!='0':\n",
    "    a = input(\"Enter the message u want to deleiver or press 0 to exit :  \")\n",
    "    msg.append(a)\n",
    "msg = msg[:-1]\n",
    "msg"
   ]
  },
  {
   "cell_type": "code",
   "execution_count": 3,
   "id": "2d8e3b8c",
   "metadata": {},
   "outputs": [],
   "source": [
    "counter = int(input(\"Enter the number of times you want to send the msg??? \"))"
   ]
  },
  {
   "cell_type": "code",
   "execution_count": null,
   "id": "a9e1bcaa",
   "metadata": {},
   "outputs": [],
   "source": [
    "pos = pg.position()\n",
    "print(pos)"
   ]
  },
  {
   "cell_type": "code",
   "execution_count": null,
   "id": "e6dab167",
   "metadata": {},
   "outputs": [],
   "source": [
    "pg.click(305, 1062)\n",
    "time.sleep(0.5)\n",
    "pg.write(\"Google\")\n",
    "\n",
    "pg.press(\"enter\")\n",
    "time.sleep(0.5)"
   ]
  },
  {
   "cell_type": "code",
   "execution_count": null,
   "id": "bc596d62",
   "metadata": {},
   "outputs": [],
   "source": [
    "pg.click(249, 79)\n",
    "pg.write(\"\")\n",
    "pg.write(\"https://web.whatsapp.com/\")\n",
    "pg.press(\"enter\")"
   ]
  },
  {
   "cell_type": "code",
   "execution_count": null,
   "id": "5c0006af",
   "metadata": {},
   "outputs": [],
   "source": [
    "time.sleep(10)\n",
    "pg.click(104, 263)\n",
    "pg.write(name)\n",
    "pg.press(\"enter\")"
   ]
  },
  {
   "cell_type": "code",
   "execution_count": null,
   "id": "b47880ef",
   "metadata": {},
   "outputs": [],
   "source": []
  },
  {
   "cell_type": "code",
   "execution_count": 5,
   "id": "9f3df19e",
   "metadata": {},
   "outputs": [],
   "source": [
    "time.sleep(30)\n",
    "c = 0\n",
    "while c<=counter:\n",
    "    pg.click(901, 973)\n",
    "    for i in msg:\n",
    "        pg.write(i)\n",
    "        pg.press(\"enter\")\n",
    "    c = c+1"
   ]
  },
  {
   "cell_type": "code",
   "execution_count": null,
   "id": "6c72767c",
   "metadata": {},
   "outputs": [],
   "source": []
  }
 ],
 "metadata": {
  "kernelspec": {
   "display_name": "Python 3 (ipykernel)",
   "language": "python",
   "name": "python3"
  },
  "language_info": {
   "codemirror_mode": {
    "name": "ipython",
    "version": 3
   },
   "file_extension": ".py",
   "mimetype": "text/x-python",
   "name": "python",
   "nbconvert_exporter": "python",
   "pygments_lexer": "ipython3",
   "version": "3.10.0"
  }
 },
 "nbformat": 4,
 "nbformat_minor": 5
}
